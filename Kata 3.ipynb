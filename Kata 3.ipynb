{
 "cells": [
  {
   "cell_type": "markdown",
   "metadata": {},
   "source": [
    "## Estatus asteroides "
   ]
  },
  {
   "cell_type": "code",
   "execution_count": 23,
   "metadata": {},
   "outputs": [
    {
     "name": "stdout",
     "output_type": "stream",
     "text": [
      "Corranle!\n"
     ]
    }
   ],
   "source": [
    "velocidadAsteroide = 49 #km/s\n",
    "if velocidadAsteroide > 25: #km/s\n",
    "    print(\"Corranle!\")\n",
    "else:\n",
    "    print(\"Todo bajo control\")"
   ]
  },
  {
   "cell_type": "code",
   "execution_count": 24,
   "metadata": {},
   "outputs": [
    {
     "name": "stdout",
     "output_type": "stream",
     "text": [
      "Busquen un asteroide en el cielo!\n"
     ]
    }
   ],
   "source": [
    "velocidadAsteroide = 20 #km/s\n",
    "if velocidadAsteroide > 20: #km/s\n",
    "    print(\"Busquen un asteroide en el cielo!\")\n",
    "elif velocidadAsteroide == 20: #km/s\n",
    "    print(\"Busquen un asteroide en el cielo!\")\n",
    "else:\n",
    "    print(\"Todo bajo control\")"
   ]
  },
  {
   "cell_type": "code",
   "execution_count": 22,
   "metadata": {},
   "outputs": [
    {
     "name": "stdout",
     "output_type": "stream",
     "text": [
      "Peligro! Asteroide acercándose\n"
     ]
    }
   ],
   "source": [
    "velocidadAsteroide = 20\n",
    "tamañoAsteroide = 20\n",
    "if velocidadAsteroide > 25 or tamañoAsteroide > 25:\n",
    "    print(\"Peligro! Asteroide acercándose\")\n",
    "elif velocidadAsteroide >= 20:\n",
    "    print(\"Busquen un asteroide en el cielo!\")\n",
    "elif tamañoAsteroide < 25:\n",
    "    print(\"Todo bajo control\")\n",
    "else:\n",
    "    print(\"Todo bajo control\")"
   ]
  }
 ],
 "metadata": {
  "interpreter": {
   "hash": "b89b5cfaba6639976dc87ff2fec6d58faec662063367e2c229c520fe71072417"
  },
  "kernelspec": {
   "display_name": "Python 3.10.1 64-bit",
   "language": "python",
   "name": "python3"
  },
  "language_info": {
   "codemirror_mode": {
    "name": "ipython",
    "version": 3
   },
   "file_extension": ".py",
   "mimetype": "text/x-python",
   "name": "python",
   "nbconvert_exporter": "python",
   "pygments_lexer": "ipython3",
   "version": "3.10.1"
  },
  "orig_nbformat": 4
 },
 "nbformat": 4,
 "nbformat_minor": 2
}
